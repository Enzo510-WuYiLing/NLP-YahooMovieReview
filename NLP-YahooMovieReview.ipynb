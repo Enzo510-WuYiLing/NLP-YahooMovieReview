{
 "cells": [
  {
   "cell_type": "markdown",
   "metadata": {},
   "source": [
    "# 內容說明\n",
    "#### 這篇作業主要針對劉瓊如老師在語意分析內容中的實作。\n",
    "#### 其中內容除了針對文本的NLP斷詞分析外，也透過觀察文本的方式萃取特徵以\"量化\"的角度與斷詞結果進行比較二分類問題。\n",
    "\n",
    "#### 下列為本篇使用的模型以及模型搭配的分析方式\n",
    "\n",
    ">RNN：NLP斷詞分析。\n",
    "\n",
    ">naive_bayes：NLP斷詞分析、文本萃取特徵量化\n",
    "\n",
    ">Decision Tree：NLP斷詞分析、文本萃取特徵量化\n"
   ]
  },
  {
   "cell_type": "markdown",
   "metadata": {},
   "source": [
    "# 資料匯入與基本檢視"
   ]
  },
  {
   "cell_type": "code",
   "execution_count": 1,
   "metadata": {
    "colab": {
     "base_uri": "https://localhost:8080/",
     "height": 641
    },
    "executionInfo": {
     "elapsed": 663,
     "status": "ok",
     "timestamp": 1666842341963,
     "user": {
      "displayName": "Yu-Yun Chang",
      "userId": "02314045223051328708"
     },
     "user_tz": -480
    },
    "id": "3AjOBKjnhLNQ",
    "outputId": "96b059a2-23e7-44fd-c08d-3aaf5b0c916d"
   },
   "outputs": [
    {
     "data": {
      "text/html": [
       "<div>\n",
       "<style scoped>\n",
       "    .dataframe tbody tr th:only-of-type {\n",
       "        vertical-align: middle;\n",
       "    }\n",
       "\n",
       "    .dataframe tbody tr th {\n",
       "        vertical-align: top;\n",
       "    }\n",
       "\n",
       "    .dataframe thead th {\n",
       "        text-align: right;\n",
       "    }\n",
       "</style>\n",
       "<table border=\"1\" class=\"dataframe\">\n",
       "  <thead>\n",
       "    <tr style=\"text-align: right;\">\n",
       "      <th></th>\n",
       "      <th>user_name</th>\n",
       "      <th>publish_time</th>\n",
       "      <th>comment</th>\n",
       "      <th>movies_key</th>\n",
       "      <th>movie_name</th>\n",
       "      <th>review_score</th>\n",
       "    </tr>\n",
       "  </thead>\n",
       "  <tbody>\n",
       "    <tr>\n",
       "      <th>0</th>\n",
       "      <td>西瓜</td>\n",
       "      <td>2018-08-29 21:45:59</td>\n",
       "      <td>看完之後好難過😫也感到在浪費時間因為結局讓人好難過</td>\n",
       "      <td>0</td>\n",
       "      <td>復仇者聯盟：無限之戰</td>\n",
       "      <td>4.6</td>\n",
       "    </tr>\n",
       "    <tr>\n",
       "      <th>1</th>\n",
       "      <td>Innocent Eyes</td>\n",
       "      <td>2018-08-26 21:44:34</td>\n",
       "      <td>Marvel近期較差的片。大混戰處理得沒味道</td>\n",
       "      <td>0</td>\n",
       "      <td>復仇者聯盟：無限之戰</td>\n",
       "      <td>4.6</td>\n",
       "    </tr>\n",
       "    <tr>\n",
       "      <th>2</th>\n",
       "      <td>宏</td>\n",
       "      <td>2018-08-18 02:49:33</td>\n",
       "      <td>5顆星給在特效做得很棒，雖然有些地方還蠻瞎的</td>\n",
       "      <td>0</td>\n",
       "      <td>復仇者聯盟：無限之戰</td>\n",
       "      <td>4.6</td>\n",
       "    </tr>\n",
       "    <tr>\n",
       "      <th>3</th>\n",
       "      <td>品</td>\n",
       "      <td>2018-08-12 12:44:34</td>\n",
       "      <td>感覺不合邏輯!奇異博士為什麼要把時間寶石給他呀！一直把他困在時間迴圈裡不就得了嗎？結局 wh...</td>\n",
       "      <td>0</td>\n",
       "      <td>復仇者聯盟：無限之戰</td>\n",
       "      <td>4.6</td>\n",
       "    </tr>\n",
       "    <tr>\n",
       "      <th>4</th>\n",
       "      <td>隆</td>\n",
       "      <td>2018-08-12 00:57:40</td>\n",
       "      <td>有人說『對故事線不了解的無法體會情境』，我想我對於復仇者系列不是很瞭解，所以常常會出戲，感覺...</td>\n",
       "      <td>0</td>\n",
       "      <td>復仇者聯盟：無限之戰</td>\n",
       "      <td>4.6</td>\n",
       "    </tr>\n",
       "    <tr>\n",
       "      <th>...</th>\n",
       "      <td>...</td>\n",
       "      <td>...</td>\n",
       "      <td>...</td>\n",
       "      <td>...</td>\n",
       "      <td>...</td>\n",
       "      <td>...</td>\n",
       "    </tr>\n",
       "    <tr>\n",
       "      <th>7242</th>\n",
       "      <td>Chen</td>\n",
       "      <td>2018-02-28 14:17:03</td>\n",
       "      <td>我覺得普普通通，可以等待二輪片在看</td>\n",
       "      <td>49</td>\n",
       "      <td>犬之島</td>\n",
       "      <td>4.3</td>\n",
       "    </tr>\n",
       "    <tr>\n",
       "      <th>7243</th>\n",
       "      <td>柏樹</td>\n",
       "      <td>2018-02-28 14:05:32</td>\n",
       "      <td>真的很好看！結局出乎意料！女主角演技大耀進！</td>\n",
       "      <td>49</td>\n",
       "      <td>犬之島</td>\n",
       "      <td>4.3</td>\n",
       "    </tr>\n",
       "    <tr>\n",
       "      <th>7244</th>\n",
       "      <td>橘子</td>\n",
       "      <td>2018-02-28 13:06:57</td>\n",
       "      <td>個人覺得這部片的劇情很緊湊 給人緊張、刺激的興奮感但缺點是整體節奏有點快（根本是本人太慢速了...</td>\n",
       "      <td>49</td>\n",
       "      <td>犬之島</td>\n",
       "      <td>4.3</td>\n",
       "    </tr>\n",
       "    <tr>\n",
       "      <th>7245</th>\n",
       "      <td>阿豪</td>\n",
       "      <td>2018-02-28 12:11:23</td>\n",
       "      <td>真的超超超級好看超級大推 完全熱血 刺激 無冷場</td>\n",
       "      <td>49</td>\n",
       "      <td>犬之島</td>\n",
       "      <td>4.3</td>\n",
       "    </tr>\n",
       "    <tr>\n",
       "      <th>7246</th>\n",
       "      <td>浩哥</td>\n",
       "      <td>2018-02-28 00:08:02</td>\n",
       "      <td>An Intense Thriller!!!Jennifer Lawrence is so ...</td>\n",
       "      <td>49</td>\n",
       "      <td>犬之島</td>\n",
       "      <td>4.3</td>\n",
       "    </tr>\n",
       "  </tbody>\n",
       "</table>\n",
       "<p>7247 rows × 6 columns</p>\n",
       "</div>"
      ],
      "text/plain": [
       "          user_name         publish_time  \\\n",
       "0                西瓜  2018-08-29 21:45:59   \n",
       "1     Innocent Eyes  2018-08-26 21:44:34   \n",
       "2                 宏  2018-08-18 02:49:33   \n",
       "3                 品  2018-08-12 12:44:34   \n",
       "4                 隆  2018-08-12 00:57:40   \n",
       "...             ...                  ...   \n",
       "7242           Chen  2018-02-28 14:17:03   \n",
       "7243             柏樹  2018-02-28 14:05:32   \n",
       "7244             橘子  2018-02-28 13:06:57   \n",
       "7245             阿豪  2018-02-28 12:11:23   \n",
       "7246             浩哥  2018-02-28 00:08:02   \n",
       "\n",
       "                                                comment  movies_key  \\\n",
       "0                             看完之後好難過😫也感到在浪費時間因為結局讓人好難過           0   \n",
       "1                                Marvel近期較差的片。大混戰處理得沒味道           0   \n",
       "2                                5顆星給在特效做得很棒，雖然有些地方還蠻瞎的           0   \n",
       "3     感覺不合邏輯!奇異博士為什麼要把時間寶石給他呀！一直把他困在時間迴圈裡不就得了嗎？結局 wh...           0   \n",
       "4     有人說『對故事線不了解的無法體會情境』，我想我對於復仇者系列不是很瞭解，所以常常會出戲，感覺...           0   \n",
       "...                                                 ...         ...   \n",
       "7242                                  我覺得普普通通，可以等待二輪片在看          49   \n",
       "7243                             真的很好看！結局出乎意料！女主角演技大耀進！          49   \n",
       "7244  個人覺得這部片的劇情很緊湊 給人緊張、刺激的興奮感但缺點是整體節奏有點快（根本是本人太慢速了...          49   \n",
       "7245                           真的超超超級好看超級大推 完全熱血 刺激 無冷場          49   \n",
       "7246  An Intense Thriller!!!Jennifer Lawrence is so ...          49   \n",
       "\n",
       "      movie_name  review_score  \n",
       "0     復仇者聯盟：無限之戰           4.6  \n",
       "1     復仇者聯盟：無限之戰           4.6  \n",
       "2     復仇者聯盟：無限之戰           4.6  \n",
       "3     復仇者聯盟：無限之戰           4.6  \n",
       "4     復仇者聯盟：無限之戰           4.6  \n",
       "...          ...           ...  \n",
       "7242         犬之島           4.3  \n",
       "7243         犬之島           4.3  \n",
       "7244         犬之島           4.3  \n",
       "7245         犬之島           4.3  \n",
       "7246         犬之島           4.3  \n",
       "\n",
       "[7247 rows x 6 columns]"
      ]
     },
     "execution_count": 1,
     "metadata": {},
     "output_type": "execute_result"
    }
   ],
   "source": [
    "import pandas as pd\n",
    "movie_df = pd.read_csv('yahoo_movie_reviews.txt', sep='\\t')\n",
    "movie_df"
   ]
  },
  {
   "cell_type": "code",
   "execution_count": 2,
   "metadata": {
    "colab": {
     "base_uri": "https://localhost:8080/",
     "height": 143
    },
    "executionInfo": {
     "elapsed": 549,
     "status": "ok",
     "timestamp": 1666842346282,
     "user": {
      "displayName": "Yu-Yun Chang",
      "userId": "02314045223051328708"
     },
     "user_tz": -480
    },
    "id": "JP0r0XkQhLNR",
    "outputId": "59d0fc3a-7715-45fc-a2f8-f959e58b0ae4",
    "scrolled": true
   },
   "outputs": [
    {
     "data": {
      "text/html": [
       "<div>\n",
       "<style scoped>\n",
       "    .dataframe tbody tr th:only-of-type {\n",
       "        vertical-align: middle;\n",
       "    }\n",
       "\n",
       "    .dataframe tbody tr th {\n",
       "        vertical-align: top;\n",
       "    }\n",
       "\n",
       "    .dataframe thead th {\n",
       "        text-align: right;\n",
       "    }\n",
       "</style>\n",
       "<table border=\"1\" class=\"dataframe\">\n",
       "  <thead>\n",
       "    <tr style=\"text-align: right;\">\n",
       "      <th></th>\n",
       "      <th>comment</th>\n",
       "      <th>movies_key</th>\n",
       "    </tr>\n",
       "  </thead>\n",
       "  <tbody>\n",
       "    <tr>\n",
       "      <th>0</th>\n",
       "      <td>看完之後好難過😫也感到在浪費時間因為結局讓人好難過</td>\n",
       "      <td>0</td>\n",
       "    </tr>\n",
       "    <tr>\n",
       "      <th>1</th>\n",
       "      <td>Marvel近期較差的片。大混戰處理得沒味道</td>\n",
       "      <td>0</td>\n",
       "    </tr>\n",
       "    <tr>\n",
       "      <th>2</th>\n",
       "      <td>5顆星給在特效做得很棒，雖然有些地方還蠻瞎的</td>\n",
       "      <td>0</td>\n",
       "    </tr>\n",
       "  </tbody>\n",
       "</table>\n",
       "</div>"
      ],
      "text/plain": [
       "                     comment  movies_key\n",
       "0  看完之後好難過😫也感到在浪費時間因為結局讓人好難過           0\n",
       "1     Marvel近期較差的片。大混戰處理得沒味道           0\n",
       "2     5顆星給在特效做得很棒，雖然有些地方還蠻瞎的           0"
      ]
     },
     "execution_count": 2,
     "metadata": {},
     "output_type": "execute_result"
    }
   ],
   "source": [
    "# movie_df.info()\n",
    "movie_df.iloc[:3, 2:4]"
   ]
  },
  {
   "cell_type": "code",
   "execution_count": 3,
   "metadata": {
    "colab": {
     "base_uri": "https://localhost:8080/"
    },
    "executionInfo": {
     "elapsed": 404,
     "status": "ok",
     "timestamp": 1666842351918,
     "user": {
      "displayName": "Yu-Yun Chang",
      "userId": "02314045223051328708"
     },
     "user_tz": -480
    },
    "id": "vSrhBQR0hLNS",
    "outputId": "37097555-a21b-45dd-d8ae-889e3394651c",
    "scrolled": true
   },
   "outputs": [
    {
     "data": {
      "text/plain": [
       "['媽媽咪呀！回來了',\n",
       " '蟻人與黃蜂女',\n",
       " '格雷的五十道陰影：自由',\n",
       " '角頭2：王者再起',\n",
       " '超人特攻隊2',\n",
       " '一級玩家',\n",
       " '紅雀',\n",
       " '決勝女王',\n",
       " '溫徹斯特鬼屋',\n",
       " '疾速救援',\n",
       " '大師兄',\n",
       " '意外',\n",
       " '郵報:密戰',\n",
       " '私刑教育2',\n",
       " '小偷家族',\n",
       " '名偵探柯南:零的執行人',\n",
       " '毀滅大作戰',\n",
       " '星際大戰外傳:韓索羅',\n",
       " '宿怨',\n",
       " '不可能的任務：全面瓦解',\n",
       " '縮小人生',\n",
       " '摯友維尼',\n",
       " '水底情深',\n",
       " '真心話大冒險',\n",
       " '鬥魚',\n",
       " '犬之島',\n",
       " '黑豹',\n",
       " '摩天大樓',\n",
       " '瞞天過海:八面玲瓏',\n",
       " '12猛漢',\n",
       " '冠軍大叔',\n",
       " '復仇者聯盟：無限之戰',\n",
       " '巨齒鯊',\n",
       " '瘋狂亞洲富豪',\n",
       " '玩命颶風',\n",
       " '閨蜜 2',\n",
       " '移動迷宮：死亡解藥',\n",
       " '環太平洋2: 起義時刻',\n",
       " '花甲大人轉男孩',\n",
       " '粽邪',\n",
       " '鬼修女',\n",
       " '陰兒房第4章：鎖命亡靈',\n",
       " '死侍2',\n",
       " '古墓奇兵',\n",
       " '侏羅紀世界:殞落國度',\n",
       " '噤界',\n",
       " '貼背戰',\n",
       " '遊戲夜殺必死',\n",
       " '尖叫旅社3:怪獸假期',\n",
       " '與神同行：最終審判']"
      ]
     },
     "execution_count": 3,
     "metadata": {},
     "output_type": "execute_result"
    }
   ],
   "source": [
    "movie_types = list(set(movie_df['movie_name']))\n",
    "num_movies = len(movie_types)\n",
    "movie_types"
   ]
  },
  {
   "cell_type": "markdown",
   "metadata": {},
   "source": [
    "# 從評論製造特徵\n",
    "\n",
    "### 我們將從文本中人工的提取一些元素作為判斷電影評論的依據。\n",
    "\n",
    "####  標點符號：以驚嘆號為例。\n",
    "    \n",
    ">假設驚嘆號越多，我們認為這個評論越正面。因此先取出驚嘆號，並計算驚嘆號數量，令為`feat_exclamation`\n",
    "\n",
    ">NOTE：驚嘆號有分半形和全形，想者都要採用\n",
    "\n",
    "##### 形容詞：\n",
    "> 好、太、超、非常\n",
    "> `feat_adj`\n",
    "\n",
    "##### 介係詞：\n",
    "> 因為|所以|只是|雖然|然後|可是\n",
    "> `feat_conj`\n",
    "\n",
    "##### 標點符號：以波浪號為例\n",
    ">根據對評論的觀察，發現波浪號在評論中出現頻繁。因此也將波浪號的出現次數視為一個特徵。\n",
    ">`feat_tilde`\n",
    "##### 數字出現次數\n",
    "> `feat_stats`\n",
    "\n",
    "##### 評論長度：\n",
    "> `feat_lenpost`"
   ]
  },
  {
   "cell_type": "code",
   "execution_count": 4,
   "metadata": {},
   "outputs": [],
   "source": [
    "import re"
   ]
  },
  {
   "cell_type": "code",
   "execution_count": 5,
   "metadata": {
    "id": "L6iEOUrzhLNW"
   },
   "outputs": [],
   "source": [
    "feat_exclamation = []\n",
    "\n",
    "for comment in movie_df['comment']:\n",
    "    exclamation = re.findall(r'!|！', comment)\n",
    "    len_exclamation = len(exclamation)\n",
    "    feat_exclamation.append(len_exclamation)\n",
    "\n"
   ]
  },
  {
   "cell_type": "code",
   "execution_count": 6,
   "metadata": {
    "id": "CsB3z84YhLNX"
   },
   "outputs": [],
   "source": [
    "feat_adj = []\n",
    "\n",
    "for comment in movie_df['comment']:\n",
    "    adj = re.findall(r'好|太|超|非常', comment)\n",
    "    len_adj = len(adj)\n",
    "    feat_adj.append(len_adj)\n",
    "\n"
   ]
  },
  {
   "cell_type": "code",
   "execution_count": 7,
   "metadata": {
    "id": "A6NPDNbyhLNY"
   },
   "outputs": [],
   "source": [
    "feat_conj = []\n",
    "\n",
    "for comment in movie_df['comment']:\n",
    "    conj = re.findall(r'因為|所以|只是|雖然|然後|可是', comment)\n",
    "    len_conj = len(conj)\n",
    "    feat_conj.append(len_conj)\n",
    "\n"
   ]
  },
  {
   "cell_type": "code",
   "execution_count": 8,
   "metadata": {
    "id": "AKEFwgfmhLNY"
   },
   "outputs": [],
   "source": [
    "feat_tilde = []\n",
    "\n",
    "for comment in movie_df['comment']:\n",
    "    tilde = re.findall(r'~+', comment)\n",
    "    len_tilde = len(tilde)\n",
    "    feat_tilde.append(len_tilde)"
   ]
  },
  {
   "cell_type": "code",
   "execution_count": 9,
   "metadata": {
    "id": "bbvReAihhLNZ"
   },
   "outputs": [],
   "source": [
    "feat_stats = []\n",
    "\n",
    "for comment in movie_df['comment']:\n",
    "    stats = re.findall(r'\\d+', comment)\n",
    "    len_stats = len(stats)\n",
    "    feat_stats.append(len_stats)"
   ]
  },
  {
   "cell_type": "code",
   "execution_count": 10,
   "metadata": {
    "id": "ODQ-NkyHhLNZ"
   },
   "outputs": [],
   "source": [
    "feat_lenpost = []\n",
    "\n",
    "for comment in movie_df['comment']:\n",
    "    len_lenpost = len(comment)\n",
    "    feat_lenpost.append(len_lenpost)"
   ]
  },
  {
   "cell_type": "markdown",
   "metadata": {
    "id": "u24aalLrhLNa"
   },
   "source": [
    "\n",
    "> 將上方生成的特徵匯入 `movie_df` dataframe.\n",
    "\n"
   ]
  },
  {
   "cell_type": "code",
   "execution_count": 11,
   "metadata": {
    "id": "jdUhI8LahLNa"
   },
   "outputs": [],
   "source": [
    "movie_df['exclamation'] = feat_exclamation\n",
    "movie_df['adj'] = feat_adj\n",
    "movie_df['conj'] = feat_conj\n",
    "movie_df['tilde'] = feat_tilde\n",
    "movie_df['stats'] = feat_stats\n",
    "movie_df['lenpost'] = feat_lenpost"
   ]
  },
  {
   "cell_type": "markdown",
   "metadata": {},
   "source": [
    "***\n",
    "## 模型建立\n",
    "\n",
    "### 定義標籤：三分類\n",
    ">由於電影評分的分數為0~5，因此我們將電影評分分為三個類別。分別為正面，中立以及負面\n",
    "\n",
    "- positive: `review_score` > 4.2 \n",
    "- negative: `review_score` < 3.7\n",
    "- neutral: 3.7 >= `review_score` <= 4.2\n",
    "\n"
   ]
  },
  {
   "cell_type": "code",
   "execution_count": 12,
   "metadata": {
    "id": "KXlHaBAohLNa"
   },
   "outputs": [],
   "source": [
    "polarity = []\n",
    "\n",
    "for score in movie_df['review_score']:\n",
    "    if score > 4.2:\n",
    "        polarity.append('positive')\n",
    "    elif score < 3.7:\n",
    "        polarity.append('negative')\n",
    "    else:\n",
    "        polarity.append('neutral')\n",
    "\n",
    "movie_df['label_3Types'] = polarity"
   ]
  },
  {
   "cell_type": "markdown",
   "metadata": {},
   "source": [
    "\n",
    "### 定義標籤：二分類\n",
    ">以4.25為分界，將電影評分分為二類別。分別為正面以及負面\n"
   ]
  },
  {
   "cell_type": "code",
   "execution_count": 13,
   "metadata": {},
   "outputs": [],
   "source": [
    "import numpy as np\n",
    "movie_df[\"label_2Types\"] = np.where(movie_df[\"review_score\"] > 4.25, 1, 0)"
   ]
  },
  {
   "cell_type": "markdown",
   "metadata": {},
   "source": [
    "### RNN Model "
   ]
  },
  {
   "cell_type": "markdown",
   "metadata": {},
   "source": [
    "### 定義分類模型\n",
    ">這裡採用RNN model進行二分類的電影評論"
   ]
  },
  {
   "cell_type": "markdown",
   "metadata": {},
   "source": [
    "###  評論整理\n",
    ">刪除英文字母、數字以及中文以外的所有符號"
   ]
  },
  {
   "cell_type": "code",
   "execution_count": 14,
   "metadata": {},
   "outputs": [],
   "source": [
    "def remove_punctuation(line):\n",
    "    line = str(line)\n",
    "    if line.strip()=='':\n",
    "        return ''\n",
    "    rule = re.compile(u\"[^a-zA-Z0-9\\u4E00-\\u9FA5]\")\n",
    "    line = rule.sub('',line)\n",
    "    return line\n"
   ]
  },
  {
   "cell_type": "code",
   "execution_count": 15,
   "metadata": {},
   "outputs": [],
   "source": [
    "movie_df['clean_comment'] = movie_df['comment'].apply(remove_punctuation)"
   ]
  },
  {
   "cell_type": "markdown",
   "metadata": {},
   "source": [
    "#### 斷詞\n",
    ">這裡先採用jieba進行斷詞，而如果可以想嘗試中研院CKIP Lab的斷詞系統\n",
    "https://github.com/ckiplab/ckipnlp\n"
   ]
  },
  {
   "cell_type": "code",
   "execution_count": 16,
   "metadata": {},
   "outputs": [],
   "source": [
    "import jieba"
   ]
  },
  {
   "cell_type": "code",
   "execution_count": 17,
   "metadata": {},
   "outputs": [
    {
     "name": "stderr",
     "output_type": "stream",
     "text": [
      "Building prefix dict from the default dictionary ...\n",
      "Loading model from cache C:\\Users\\hughw\\AppData\\Local\\Temp\\jieba.cache\n",
      "Loading model cost 0.417 seconds.\n",
      "Prefix dict has been built successfully.\n"
     ]
    }
   ],
   "source": [
    "movie_df['clean_cut_comment'] = movie_df.clean_comment.apply(jieba.lcut)"
   ]
  },
  {
   "cell_type": "markdown",
   "metadata": {},
   "source": [
    "\n",
    "#### Word to Vector\n",
    ">將截斷的文字轉為詞向量，而這部份利用Word2Vec執行\n",
    "\n"
   ]
  },
  {
   "cell_type": "code",
   "execution_count": 18,
   "metadata": {},
   "outputs": [],
   "source": [
    "from gensim.models import Word2Vec"
   ]
  },
  {
   "cell_type": "code",
   "execution_count": 19,
   "metadata": {},
   "outputs": [
    {
     "data": {
      "text/plain": [
       "count    7247.000000\n",
       "mean       26.035739\n",
       "std        32.032018\n",
       "min         0.000000\n",
       "25%        10.000000\n",
       "50%        16.000000\n",
       "75%        29.000000\n",
       "max       438.000000\n",
       "Name: clean_cut_comment, dtype: float64"
      ]
     },
     "execution_count": 19,
     "metadata": {},
     "output_type": "execute_result"
    }
   ],
   "source": [
    "#觀察詞向量長度\n",
    "movie_df['clean_cut_comment'].str.len().describe()"
   ]
  },
  {
   "cell_type": "code",
   "execution_count": 20,
   "metadata": {},
   "outputs": [],
   "source": [
    "#max_size = 438\n",
    "MovieComment2Vec = Word2Vec(movie_df['clean_cut_comment'], size = 438, iter = 10, sg = 1, min_count = 1)"
   ]
  },
  {
   "cell_type": "markdown",
   "metadata": {},
   "source": [
    "+ Word2Vec Syntax\n",
    "(https://radimrehurek.com/gensim/models/word2vec.html)\n",
    "```\n",
    "sg ({0, 1}, optional) \n",
    "– Training algorithm: 1 for skip-gram; otherwise CBOW.\n",
    "```\n",
    "\n",
    "```\n",
    "min_count\n",
    "– the min frequence to employ\n",
    "```"
   ]
  },
  {
   "cell_type": "markdown",
   "metadata": {},
   "source": [
    "#### Word Embedding\n",
    ">根據上方評論詞向量的分配，我們決定選擇$P_{75}=29$ 作為詞向量的選取長度\n",
    "\n",
    ">因為所有的input必須一樣長，所以句子短於29的都會補0，長於29的會被truncate。\n"
   ]
  },
  {
   "cell_type": "code",
   "execution_count": 21,
   "metadata": {},
   "outputs": [],
   "source": [
    "embedding_matrix = MovieComment2Vec.wv.vectors"
   ]
  },
  {
   "cell_type": "code",
   "execution_count": 22,
   "metadata": {},
   "outputs": [
    {
     "data": {
      "text/plain": [
       "(22221, 438)"
      ]
     },
     "execution_count": 22,
     "metadata": {},
     "output_type": "execute_result"
    }
   ],
   "source": [
    "embedding_matrix.shape\n",
    "#這個尺寸在建立embedding layer時會用到，所以可以先預備起來"
   ]
  },
  {
   "cell_type": "markdown",
   "metadata": {},
   "source": [
    "***\n",
    ">建立長度29的零矩陣\n",
    "\n",
    "\n",
    ">n_row = `len(movie_df['clean_cut_comment'])`，n_col = 29"
   ]
  },
  {
   "cell_type": "code",
   "execution_count": 23,
   "metadata": {},
   "outputs": [],
   "source": [
    "import numpy as np\n",
    "CommentVecs = np.zeros([len(movie_df['clean_cut_comment']), 29], dtype = \"float64\")"
   ]
  },
  {
   "cell_type": "code",
   "execution_count": 24,
   "metadata": {},
   "outputs": [],
   "source": [
    "for i in range(len(movie_df['clean_cut_comment'])):\n",
    "    for j in range(min(len(movie_df.clean_cut_comment[i]), 29)):\n",
    "        CommentVecs[i, j] = MovieComment2Vec.wv.vocab[movie_df['clean_cut_comment'][i][j]].index"
   ]
  },
  {
   "cell_type": "code",
   "execution_count": 25,
   "metadata": {},
   "outputs": [
    {
     "data": {
      "text/plain": [
       "(7247, 29)"
      ]
     },
     "execution_count": 25,
     "metadata": {},
     "output_type": "execute_result"
    }
   ],
   "source": [
    "CommentVecs.shape"
   ]
  },
  {
   "cell_type": "markdown",
   "metadata": {},
   "source": [
    "### 準備標籤\n",
    ">在上方`定義標籤`的部分已經先以評分\"5\"作為正面負面臨界值。"
   ]
  },
  {
   "cell_type": "code",
   "execution_count": 26,
   "metadata": {},
   "outputs": [],
   "source": [
    "label_2Types = movie_df['label_2Types']"
   ]
  },
  {
   "cell_type": "markdown",
   "metadata": {},
   "source": [
    "### 切割訓練集資料以及測試集資料"
   ]
  },
  {
   "cell_type": "code",
   "execution_count": 27,
   "metadata": {},
   "outputs": [],
   "source": [
    "from sklearn.model_selection import train_test_split\n",
    "CommentVecs_train, CommentVecs_test, label_2_train, label_2_test = train_test_split(CommentVecs, label_2Types, train_size = 0.8, random_state = 0)"
   ]
  },
  {
   "cell_type": "markdown",
   "metadata": {},
   "source": [
    "### 建立模型：二分類"
   ]
  },
  {
   "cell_type": "code",
   "execution_count": 28,
   "metadata": {},
   "outputs": [],
   "source": [
    "import tensorflow as tf\n",
    "from tensorflow import keras\n",
    "from tensorflow.keras import layers"
   ]
  },
  {
   "cell_type": "code",
   "execution_count": 29,
   "metadata": {},
   "outputs": [
    {
     "data": {
      "image/png": "[encoded data removed]",
      "text/plain": [
       "<IPython.core.display.Image object>"
      ]
     },
     "execution_count": 29,
     "metadata": {},
     "output_type": "execute_result"
    }
   ],
   "source": [
    "#step 1\n",
    "RNN = keras.Sequential(name = \"RNN\")\n",
    "\n",
    "#step 2\n",
    "#加入embedding，尺寸參見`embedding_matrix.shape`\n",
    "RNN.add(layers.Embedding(len(MovieComment2Vec.wv.vectors), 438))\n",
    "\n",
    "#step 3\n",
    "RNN.add(layers.SimpleRNN(64))\n",
    "\n",
    "#Step 4\n",
    "#layers.Dense(2)：二分類，最後一層\n",
    "#因為最後一層，所以要用分類器softmax\n",
    "RNN.add(layers.Dense(2, activation = \"softmax\"))\n",
    "\n",
    "keras.utils.plot_model(RNN, show_shapes = True)"
   ]
  },
  {
   "cell_type": "code",
   "execution_count": 30,
   "metadata": {},
   "outputs": [
    {
     "name": "stdout",
     "output_type": "stream",
     "text": [
      "Model: \"RNN\"\n",
      "_________________________________________________________________\n",
      " Layer (type)                Output Shape              Param #   \n",
      "=================================================================\n",
      " embedding (Embedding)       (None, None, 438)         9732798   \n",
      "                                                                 \n",
      " simple_rnn (SimpleRNN)      (None, 64)                32192     \n",
      "                                                                 \n",
      " dense (Dense)               (None, 2)                 130       \n",
      "                                                                 \n",
      "=================================================================\n",
      "Total params: 9,765,120\n",
      "Trainable params: 9,765,120\n",
      "Non-trainable params: 0\n",
      "_________________________________________________________________\n"
     ]
    }
   ],
   "source": [
    "#檢視變數數量\n",
    "RNN.summary()\n"
   ]
  },
  {
   "cell_type": "code",
   "execution_count": 31,
   "metadata": {},
   "outputs": [
    {
     "name": "stdout",
     "output_type": "stream",
     "text": [
      "Model: \"RNN\"\n",
      "_________________________________________________________________\n",
      " Layer (type)                Output Shape              Param #   \n",
      "=================================================================\n",
      " embedding (Embedding)       (None, None, 438)         9732798   \n",
      "                                                                 \n",
      " simple_rnn (SimpleRNN)      (None, 64)                32192     \n",
      "                                                                 \n",
      " dense (Dense)               (None, 2)                 130       \n",
      "                                                                 \n",
      "=================================================================\n",
      "Total params: 9,765,120\n",
      "Trainable params: 32,322\n",
      "Non-trainable params: 9,732,798\n",
      "_________________________________________________________________\n"
     ]
    }
   ],
   "source": [
    "#由於import layer 不訓練，因此要調整modelweight\n",
    "RNN.layers[0].set_weights([embedding_matrix])\n",
    "RNN.layers[0].trainable = False\n",
    "RNN.summary()\n",
    "\n",
    "#RNN network completed"
   ]
  },
  {
   "cell_type": "code",
   "execution_count": 32,
   "metadata": {},
   "outputs": [],
   "source": [
    "RNN.compile(optimizer = \"Adam\", \n",
    "            loss = keras.losses.sparse_categorical_crossentropy,\n",
    "            metrics = [\"accuracy\"])"
   ]
  },
  {
   "cell_type": "markdown",
   "metadata": {},
   "source": [
    "### 訓練模型"
   ]
  },
  {
   "cell_type": "code",
   "execution_count": 33,
   "metadata": {},
   "outputs": [
    {
     "name": "stdout",
     "output_type": "stream",
     "text": [
      "Epoch 1/20\n",
      "182/182 [==============================] - 1s 4ms/step - loss: 0.7025 - accuracy: 0.5053\n",
      "Epoch 2/20\n",
      "182/182 [==============================] - 1s 4ms/step - loss: 0.6940 - accuracy: 0.5225\n",
      "Epoch 3/20\n",
      "182/182 [==============================] - 1s 3ms/step - loss: 0.6874 - accuracy: 0.5391\n",
      "Epoch 4/20\n",
      "182/182 [==============================] - 1s 3ms/step - loss: 0.6789 - accuracy: 0.5442\n",
      "Epoch 5/20\n",
      "182/182 [==============================] - 1s 3ms/step - loss: 0.6708 - accuracy: 0.5648\n",
      "Epoch 6/20\n",
      "182/182 [==============================] - 1s 3ms/step - loss: 0.6658 - accuracy: 0.5622\n",
      "Epoch 7/20\n",
      "182/182 [==============================] - 1s 3ms/step - loss: 0.6533 - accuracy: 0.5717\n",
      "Epoch 8/20\n",
      "182/182 [==============================] - 1s 3ms/step - loss: 0.6439 - accuracy: 0.5910\n",
      "Epoch 9/20\n",
      "182/182 [==============================] - 1s 3ms/step - loss: 0.6307 - accuracy: 0.6024\n",
      "Epoch 10/20\n",
      "182/182 [==============================] - 1s 3ms/step - loss: 0.6184 - accuracy: 0.6214\n",
      "Epoch 11/20\n",
      "182/182 [==============================] - 1s 3ms/step - loss: 0.6050 - accuracy: 0.6250\n",
      "Epoch 12/20\n",
      "182/182 [==============================] - 1s 3ms/step - loss: 0.5853 - accuracy: 0.6400\n",
      "Epoch 13/20\n",
      "182/182 [==============================] - 1s 3ms/step - loss: 0.5769 - accuracy: 0.6467\n",
      "Epoch 14/20\n",
      "182/182 [==============================] - 1s 3ms/step - loss: 0.5533 - accuracy: 0.6648\n",
      "Epoch 15/20\n",
      "182/182 [==============================] - 1s 3ms/step - loss: 0.5390 - accuracy: 0.6798\n",
      "Epoch 16/20\n",
      "182/182 [==============================] - 1s 3ms/step - loss: 0.5309 - accuracy: 0.6878\n",
      "Epoch 17/20\n",
      "182/182 [==============================] - 1s 3ms/step - loss: 0.5115 - accuracy: 0.6976\n",
      "Epoch 18/20\n",
      "182/182 [==============================] - 1s 3ms/step - loss: 0.5007 - accuracy: 0.7138\n",
      "Epoch 19/20\n",
      "182/182 [==============================] - 1s 3ms/step - loss: 0.4865 - accuracy: 0.7255\n",
      "Epoch 20/20\n",
      "182/182 [==============================] - 1s 3ms/step - loss: 0.4757 - accuracy: 0.7333\n"
     ]
    },
    {
     "data": {
      "text/plain": [
       "<keras.callbacks.History at 0x290f109f4f0>"
      ]
     },
     "execution_count": 33,
     "metadata": {},
     "output_type": "execute_result"
    }
   ],
   "source": [
    "RNN.fit(CommentVecs_train, label_2_train, epochs = 20)\n",
    "\n",
    "#epochs：訓練次數，資源問題先20次就好"
   ]
  },
  {
   "cell_type": "markdown",
   "metadata": {
    "id": "6lcPpMkzhLNb"
   },
   "source": [
    "***\n",
    "## Naive Bayes Model\n",
    "***\n",
    "### NLP斷詞分析\n",
    ">先建立 naive bayes model 的架構，並同時訓練模型\n",
    "\n"
   ]
  },
  {
   "cell_type": "code",
   "execution_count": 34,
   "metadata": {
    "colab": {
     "base_uri": "https://localhost:8080/"
    },
    "executionInfo": {
     "elapsed": 533,
     "status": "ok",
     "timestamp": 1666842425864,
     "user": {
      "displayName": "Yu-Yun Chang",
      "userId": "02314045223051328708"
     },
     "user_tz": -480
    },
    "id": "8pnWZ9CXhLNc",
    "outputId": "0f51a95d-ef43-4f4f-935a-f83c32347122"
   },
   "outputs": [
    {
     "data": {
      "text/html": [
       "<style>#sk-container-id-1 {color: black;background-color: white;}#sk-container-id-1 pre{padding: 0;}#sk-container-id-1 div.sk-toggleable {background-color: white;}#sk-container-id-1 label.sk-toggleable__label {cursor: pointer;display: block;width: 100%;margin-bottom: 0;padding: 0.3em;box-sizing: border-box;text-align: center;}#sk-container-id-1 label.sk-toggleable__label-arrow:before {content: \"▸\";float: left;margin-right: 0.25em;color: #696969;}#sk-container-id-1 label.sk-toggleable__label-arrow:hover:before {color: black;}#sk-container-id-1 div.sk-estimator:hover label.sk-toggleable__label-arrow:before {color: black;}#sk-container-id-1 div.sk-toggleable__content {max-height: 0;max-width: 0;overflow: hidden;text-align: left;background-color: #f0f8ff;}#sk-container-id-1 div.sk-toggleable__content pre {margin: 0.2em;color: black;border-radius: 0.25em;background-color: #f0f8ff;}#sk-container-id-1 input.sk-toggleable__control:checked~div.sk-toggleable__content {max-height: 200px;max-width: 100%;overflow: auto;}#sk-container-id-1 input.sk-toggleable__control:checked~label.sk-toggleable__label-arrow:before {content: \"▾\";}#sk-container-id-1 div.sk-estimator input.sk-toggleable__control:checked~label.sk-toggleable__label {background-color: #d4ebff;}#sk-container-id-1 div.sk-label input.sk-toggleable__control:checked~label.sk-toggleable__label {background-color: #d4ebff;}#sk-container-id-1 input.sk-hidden--visually {border: 0;clip: rect(1px 1px 1px 1px);clip: rect(1px, 1px, 1px, 1px);height: 1px;margin: -1px;overflow: hidden;padding: 0;position: absolute;width: 1px;}#sk-container-id-1 div.sk-estimator {font-family: monospace;background-color: #f0f8ff;border: 1px dotted black;border-radius: 0.25em;box-sizing: border-box;margin-bottom: 0.5em;}#sk-container-id-1 div.sk-estimator:hover {background-color: #d4ebff;}#sk-container-id-1 div.sk-parallel-item::after {content: \"\";width: 100%;border-bottom: 1px solid gray;flex-grow: 1;}#sk-container-id-1 div.sk-label:hover label.sk-toggleable__label {background-color: #d4ebff;}#sk-container-id-1 div.sk-serial::before {content: \"\";position: absolute;border-left: 1px solid gray;box-sizing: border-box;top: 0;bottom: 0;left: 50%;z-index: 0;}#sk-container-id-1 div.sk-serial {display: flex;flex-direction: column;align-items: center;background-color: white;padding-right: 0.2em;padding-left: 0.2em;position: relative;}#sk-container-id-1 div.sk-item {position: relative;z-index: 1;}#sk-container-id-1 div.sk-parallel {display: flex;align-items: stretch;justify-content: center;background-color: white;position: relative;}#sk-container-id-1 div.sk-item::before, #sk-container-id-1 div.sk-parallel-item::before {content: \"\";position: absolute;border-left: 1px solid gray;box-sizing: border-box;top: 0;bottom: 0;left: 50%;z-index: -1;}#sk-container-id-1 div.sk-parallel-item {display: flex;flex-direction: column;z-index: 1;position: relative;background-color: white;}#sk-container-id-1 div.sk-parallel-item:first-child::after {align-self: flex-end;width: 50%;}#sk-container-id-1 div.sk-parallel-item:last-child::after {align-self: flex-start;width: 50%;}#sk-container-id-1 div.sk-parallel-item:only-child::after {width: 0;}#sk-container-id-1 div.sk-dashed-wrapped {border: 1px dashed gray;margin: 0 0.4em 0.5em 0.4em;box-sizing: border-box;padding-bottom: 0.4em;background-color: white;}#sk-container-id-1 div.sk-label label {font-family: monospace;font-weight: bold;display: inline-block;line-height: 1.2em;}#sk-container-id-1 div.sk-label-container {text-align: center;}#sk-container-id-1 div.sk-container {/* jupyter's `normalize.less` sets `[hidden] { display: none; }` but bootstrap.min.css set `[hidden] { display: none !important; }` so we also need the `!important` here to be able to override the default hidden behavior on the sphinx rendered scikit-learn.org. See: https://github.com/scikit-learn/scikit-learn/issues/21755 */display: inline-block !important;position: relative;}#sk-container-id-1 div.sk-text-repr-fallback {display: none;}</style><div id=\"sk-container-id-1\" class=\"sk-top-container\"><div class=\"sk-text-repr-fallback\"><pre>MultinomialNB()</pre><b>In a Jupyter environment, please rerun this cell to show the HTML representation or trust the notebook. <br />On GitHub, the HTML representation is unable to render, please try loading this page with nbviewer.org.</b></div><div class=\"sk-container\" hidden><div class=\"sk-item\"><div class=\"sk-estimator sk-toggleable\"><input class=\"sk-toggleable__control sk-hidden--visually\" id=\"sk-estimator-id-1\" type=\"checkbox\" checked><label for=\"sk-estimator-id-1\" class=\"sk-toggleable__label sk-toggleable__label-arrow\">MultinomialNB</label><div class=\"sk-toggleable__content\"><pre>MultinomialNB()</pre></div></div></div></div></div>"
      ],
      "text/plain": [
       "MultinomialNB()"
      ]
     },
     "execution_count": 34,
     "metadata": {},
     "output_type": "execute_result"
    }
   ],
   "source": [
    "from sklearn.naive_bayes import MultinomialNB\n",
    "\n",
    "nb_model_NLP = MultinomialNB()\n",
    "nb_model_NLP.fit(CommentVecs_train, label_2_train)"
   ]
  },
  {
   "cell_type": "markdown",
   "metadata": {
    "id": "5J2xYaLxhLNc"
   },
   "source": [
    "### Model Prediction\n",
    "\n",
    ">預測模型"
   ]
  },
  {
   "cell_type": "code",
   "execution_count": 35,
   "metadata": {},
   "outputs": [],
   "source": [
    "predicted_nb_NLP = nb_model_NLP.predict(CommentVecs_test)"
   ]
  },
  {
   "cell_type": "markdown",
   "metadata": {
    "id": "jS0YYPF0hLNc"
   },
   "source": [
    "### Model Evaluation\n",
    ">將上方預測模型的結果進行模型的評估\n",
    "\n"
   ]
  },
  {
   "cell_type": "code",
   "execution_count": 36,
   "metadata": {
    "colab": {
     "base_uri": "https://localhost:8080/"
    },
    "executionInfo": {
     "elapsed": 348,
     "status": "ok",
     "timestamp": 1666842430616,
     "user": {
      "displayName": "Yu-Yun Chang",
      "userId": "02314045223051328708"
     },
     "user_tz": -480
    },
    "id": "eRbl-Bh0hLNd",
    "outputId": "93ec0625-0ab1-4682-a891-396274af6349"
   },
   "outputs": [
    {
     "data": {
      "text/plain": [
       "0.5013793103448276"
      ]
     },
     "execution_count": 36,
     "metadata": {},
     "output_type": "execute_result"
    }
   ],
   "source": [
    "from sklearn.metrics import accuracy_score\n",
    "\n",
    "accuracy_score(label_2_test, predicted_nb_NLP)"
   ]
  },
  {
   "cell_type": "markdown",
   "metadata": {
    "id": "6sH3rp2XhLNd"
   },
   "source": [
    ">在下方建立Confusion Matrix呈現在測試集中的表現\n"
   ]
  },
  {
   "cell_type": "code",
   "execution_count": 37,
   "metadata": {
    "colab": {
     "base_uri": "https://localhost:8080/",
     "height": 410
    },
    "executionInfo": {
     "elapsed": 411,
     "status": "ok",
     "timestamp": 1666842433392,
     "user": {
      "displayName": "Yu-Yun Chang",
      "userId": "02314045223051328708"
     },
     "user_tz": -480
    },
    "id": "7k3bOCcVhLNd",
    "outputId": "bc8c6d4c-4dd0-4e99-86d1-ee53699c88a1"
   },
   "outputs": [
    {
     "name": "stdout",
     "output_type": "stream",
     "text": [
      "[[352 398]\n",
      " [325 375]]\n"
     ]
    },
    {
     "data": {
      "image/png": "[encoded data removed]",
      "text/plain": [
       "<Figure size 360x360 with 1 Axes>"
      ]
     },
     "metadata": {
      "needs_background": "light"
     },
     "output_type": "display_data"
    }
   ],
   "source": [
    "from sklearn.metrics import confusion_matrix\n",
    "\n",
    "conf_matrix = confusion_matrix(label_2_test, predicted_nb_NLP)\n",
    "print(conf_matrix)\n",
    "\n",
    "# print the confusion matrix into a graph\n",
    "\n",
    "import matplotlib.pyplot as plt\n",
    "fig, ax = plt.subplots(figsize=(5, 5))\n",
    "ax.matshow(conf_matrix, cmap=plt.cm.Oranges, alpha=0.3)\n",
    "for i in range(conf_matrix.shape[0]):\n",
    "    for j in range(conf_matrix.shape[1]):\n",
    "        ax.text(x=j, y=i,s=conf_matrix[i, j], va='center', ha='center', size='xx-large')\n",
    " \n",
    "plt.xlabel('Predictions', fontsize=18)\n",
    "plt.ylabel('Gold Standard', fontsize=18)\n",
    "plt.title('Confusion Matrix', fontsize=18)\n",
    "plt.show()"
   ]
  },
  {
   "cell_type": "markdown",
   "metadata": {},
   "source": [
    "### 文本萃取特徵量化"
   ]
  },
  {
   "cell_type": "markdown",
   "metadata": {},
   "source": [
    "#### 選取量化特徵，並劃分訓練及與測試集"
   ]
  },
  {
   "cell_type": "code",
   "execution_count": 38,
   "metadata": {},
   "outputs": [],
   "source": [
    "all_features = movie_df[['exclamation', 'adj', 'conj', 'tilde', 'stats','lenpost']]\n",
    "\n",
    "feat_train, feat_test, label_2_train, label_2_test = train_test_split(all_features, label_2Types, train_size = 0.8, random_state = 0)"
   ]
  },
  {
   "cell_type": "code",
   "execution_count": 39,
   "metadata": {},
   "outputs": [
    {
     "data": {
      "text/html": [
       "<style>#sk-container-id-2 {color: black;background-color: white;}#sk-container-id-2 pre{padding: 0;}#sk-container-id-2 div.sk-toggleable {background-color: white;}#sk-container-id-2 label.sk-toggleable__label {cursor: pointer;display: block;width: 100%;margin-bottom: 0;padding: 0.3em;box-sizing: border-box;text-align: center;}#sk-container-id-2 label.sk-toggleable__label-arrow:before {content: \"▸\";float: left;margin-right: 0.25em;color: #696969;}#sk-container-id-2 label.sk-toggleable__label-arrow:hover:before {color: black;}#sk-container-id-2 div.sk-estimator:hover label.sk-toggleable__label-arrow:before {color: black;}#sk-container-id-2 div.sk-toggleable__content {max-height: 0;max-width: 0;overflow: hidden;text-align: left;background-color: #f0f8ff;}#sk-container-id-2 div.sk-toggleable__content pre {margin: 0.2em;color: black;border-radius: 0.25em;background-color: #f0f8ff;}#sk-container-id-2 input.sk-toggleable__control:checked~div.sk-toggleable__content {max-height: 200px;max-width: 100%;overflow: auto;}#sk-container-id-2 input.sk-toggleable__control:checked~label.sk-toggleable__label-arrow:before {content: \"▾\";}#sk-container-id-2 div.sk-estimator input.sk-toggleable__control:checked~label.sk-toggleable__label {background-color: #d4ebff;}#sk-container-id-2 div.sk-label input.sk-toggleable__control:checked~label.sk-toggleable__label {background-color: #d4ebff;}#sk-container-id-2 input.sk-hidden--visually {border: 0;clip: rect(1px 1px 1px 1px);clip: rect(1px, 1px, 1px, 1px);height: 1px;margin: -1px;overflow: hidden;padding: 0;position: absolute;width: 1px;}#sk-container-id-2 div.sk-estimator {font-family: monospace;background-color: #f0f8ff;border: 1px dotted black;border-radius: 0.25em;box-sizing: border-box;margin-bottom: 0.5em;}#sk-container-id-2 div.sk-estimator:hover {background-color: #d4ebff;}#sk-container-id-2 div.sk-parallel-item::after {content: \"\";width: 100%;border-bottom: 1px solid gray;flex-grow: 1;}#sk-container-id-2 div.sk-label:hover label.sk-toggleable__label {background-color: #d4ebff;}#sk-container-id-2 div.sk-serial::before {content: \"\";position: absolute;border-left: 1px solid gray;box-sizing: border-box;top: 0;bottom: 0;left: 50%;z-index: 0;}#sk-container-id-2 div.sk-serial {display: flex;flex-direction: column;align-items: center;background-color: white;padding-right: 0.2em;padding-left: 0.2em;position: relative;}#sk-container-id-2 div.sk-item {position: relative;z-index: 1;}#sk-container-id-2 div.sk-parallel {display: flex;align-items: stretch;justify-content: center;background-color: white;position: relative;}#sk-container-id-2 div.sk-item::before, #sk-container-id-2 div.sk-parallel-item::before {content: \"\";position: absolute;border-left: 1px solid gray;box-sizing: border-box;top: 0;bottom: 0;left: 50%;z-index: -1;}#sk-container-id-2 div.sk-parallel-item {display: flex;flex-direction: column;z-index: 1;position: relative;background-color: white;}#sk-container-id-2 div.sk-parallel-item:first-child::after {align-self: flex-end;width: 50%;}#sk-container-id-2 div.sk-parallel-item:last-child::after {align-self: flex-start;width: 50%;}#sk-container-id-2 div.sk-parallel-item:only-child::after {width: 0;}#sk-container-id-2 div.sk-dashed-wrapped {border: 1px dashed gray;margin: 0 0.4em 0.5em 0.4em;box-sizing: border-box;padding-bottom: 0.4em;background-color: white;}#sk-container-id-2 div.sk-label label {font-family: monospace;font-weight: bold;display: inline-block;line-height: 1.2em;}#sk-container-id-2 div.sk-label-container {text-align: center;}#sk-container-id-2 div.sk-container {/* jupyter's `normalize.less` sets `[hidden] { display: none; }` but bootstrap.min.css set `[hidden] { display: none !important; }` so we also need the `!important` here to be able to override the default hidden behavior on the sphinx rendered scikit-learn.org. See: https://github.com/scikit-learn/scikit-learn/issues/21755 */display: inline-block !important;position: relative;}#sk-container-id-2 div.sk-text-repr-fallback {display: none;}</style><div id=\"sk-container-id-2\" class=\"sk-top-container\"><div class=\"sk-text-repr-fallback\"><pre>MultinomialNB()</pre><b>In a Jupyter environment, please rerun this cell to show the HTML representation or trust the notebook. <br />On GitHub, the HTML representation is unable to render, please try loading this page with nbviewer.org.</b></div><div class=\"sk-container\" hidden><div class=\"sk-item\"><div class=\"sk-estimator sk-toggleable\"><input class=\"sk-toggleable__control sk-hidden--visually\" id=\"sk-estimator-id-2\" type=\"checkbox\" checked><label for=\"sk-estimator-id-2\" class=\"sk-toggleable__label sk-toggleable__label-arrow\">MultinomialNB</label><div class=\"sk-toggleable__content\"><pre>MultinomialNB()</pre></div></div></div></div></div>"
      ],
      "text/plain": [
       "MultinomialNB()"
      ]
     },
     "execution_count": 39,
     "metadata": {},
     "output_type": "execute_result"
    }
   ],
   "source": [
    "nb_model = MultinomialNB()\n",
    "nb_model.fit(feat_train, label_2_train) "
   ]
  },
  {
   "cell_type": "code",
   "execution_count": 40,
   "metadata": {},
   "outputs": [
    {
     "data": {
      "text/plain": [
       "0.5048275862068966"
      ]
     },
     "execution_count": 40,
     "metadata": {},
     "output_type": "execute_result"
    }
   ],
   "source": [
    "predicted_nb = nb_model.predict(feat_test)\n",
    "accuracy_score(label_2_test, predicted_nb)"
   ]
  },
  {
   "cell_type": "markdown",
   "metadata": {},
   "source": [
    ">兩者結果差異不大"
   ]
  },
  {
   "cell_type": "code",
   "execution_count": 41,
   "metadata": {},
   "outputs": [
    {
     "name": "stdout",
     "output_type": "stream",
     "text": [
      "[[551 199]\n",
      " [519 181]]\n"
     ]
    },
    {
     "data": {
      "image/png": "[encoded data removed]",
      "text/plain": [
       "<Figure size 360x360 with 1 Axes>"
      ]
     },
     "metadata": {
      "needs_background": "light"
     },
     "output_type": "display_data"
    }
   ],
   "source": [
    "from sklearn.metrics import confusion_matrix\n",
    "\n",
    "conf_matrix = confusion_matrix(label_2_test, predicted_nb)\n",
    "print(conf_matrix)\n",
    "\n",
    "# print the confusion matrix into a graph\n",
    "\n",
    "import matplotlib.pyplot as plt\n",
    "fig, ax = plt.subplots(figsize=(5, 5))\n",
    "ax.matshow(conf_matrix, cmap=plt.cm.Oranges, alpha=0.3)\n",
    "for i in range(conf_matrix.shape[0]):\n",
    "    for j in range(conf_matrix.shape[1]):\n",
    "        ax.text(x=j, y=i,s=conf_matrix[i, j], va='center', ha='center', size='xx-large')\n",
    " \n",
    "plt.xlabel('Predictions', fontsize=18)\n",
    "plt.ylabel('Gold Standard', fontsize=18)\n",
    "plt.title('Confusion Matrix', fontsize=18)\n",
    "plt.show()"
   ]
  },
  {
   "cell_type": "markdown",
   "metadata": {},
   "source": [
    "***\n",
    "## Decision Tree Model Model\n",
    "***\n",
    "### NLP斷詞分析"
   ]
  },
  {
   "cell_type": "code",
   "execution_count": 42,
   "metadata": {},
   "outputs": [
    {
     "data": {
      "text/html": [
       "<style>#sk-container-id-3 {color: black;background-color: white;}#sk-container-id-3 pre{padding: 0;}#sk-container-id-3 div.sk-toggleable {background-color: white;}#sk-container-id-3 label.sk-toggleable__label {cursor: pointer;display: block;width: 100%;margin-bottom: 0;padding: 0.3em;box-sizing: border-box;text-align: center;}#sk-container-id-3 label.sk-toggleable__label-arrow:before {content: \"▸\";float: left;margin-right: 0.25em;color: #696969;}#sk-container-id-3 label.sk-toggleable__label-arrow:hover:before {color: black;}#sk-container-id-3 div.sk-estimator:hover label.sk-toggleable__label-arrow:before {color: black;}#sk-container-id-3 div.sk-toggleable__content {max-height: 0;max-width: 0;overflow: hidden;text-align: left;background-color: #f0f8ff;}#sk-container-id-3 div.sk-toggleable__content pre {margin: 0.2em;color: black;border-radius: 0.25em;background-color: #f0f8ff;}#sk-container-id-3 input.sk-toggleable__control:checked~div.sk-toggleable__content {max-height: 200px;max-width: 100%;overflow: auto;}#sk-container-id-3 input.sk-toggleable__control:checked~label.sk-toggleable__label-arrow:before {content: \"▾\";}#sk-container-id-3 div.sk-estimator input.sk-toggleable__control:checked~label.sk-toggleable__label {background-color: #d4ebff;}#sk-container-id-3 div.sk-label input.sk-toggleable__control:checked~label.sk-toggleable__label {background-color: #d4ebff;}#sk-container-id-3 input.sk-hidden--visually {border: 0;clip: rect(1px 1px 1px 1px);clip: rect(1px, 1px, 1px, 1px);height: 1px;margin: -1px;overflow: hidden;padding: 0;position: absolute;width: 1px;}#sk-container-id-3 div.sk-estimator {font-family: monospace;background-color: #f0f8ff;border: 1px dotted black;border-radius: 0.25em;box-sizing: border-box;margin-bottom: 0.5em;}#sk-container-id-3 div.sk-estimator:hover {background-color: #d4ebff;}#sk-container-id-3 div.sk-parallel-item::after {content: \"\";width: 100%;border-bottom: 1px solid gray;flex-grow: 1;}#sk-container-id-3 div.sk-label:hover label.sk-toggleable__label {background-color: #d4ebff;}#sk-container-id-3 div.sk-serial::before {content: \"\";position: absolute;border-left: 1px solid gray;box-sizing: border-box;top: 0;bottom: 0;left: 50%;z-index: 0;}#sk-container-id-3 div.sk-serial {display: flex;flex-direction: column;align-items: center;background-color: white;padding-right: 0.2em;padding-left: 0.2em;position: relative;}#sk-container-id-3 div.sk-item {position: relative;z-index: 1;}#sk-container-id-3 div.sk-parallel {display: flex;align-items: stretch;justify-content: center;background-color: white;position: relative;}#sk-container-id-3 div.sk-item::before, #sk-container-id-3 div.sk-parallel-item::before {content: \"\";position: absolute;border-left: 1px solid gray;box-sizing: border-box;top: 0;bottom: 0;left: 50%;z-index: -1;}#sk-container-id-3 div.sk-parallel-item {display: flex;flex-direction: column;z-index: 1;position: relative;background-color: white;}#sk-container-id-3 div.sk-parallel-item:first-child::after {align-self: flex-end;width: 50%;}#sk-container-id-3 div.sk-parallel-item:last-child::after {align-self: flex-start;width: 50%;}#sk-container-id-3 div.sk-parallel-item:only-child::after {width: 0;}#sk-container-id-3 div.sk-dashed-wrapped {border: 1px dashed gray;margin: 0 0.4em 0.5em 0.4em;box-sizing: border-box;padding-bottom: 0.4em;background-color: white;}#sk-container-id-3 div.sk-label label {font-family: monospace;font-weight: bold;display: inline-block;line-height: 1.2em;}#sk-container-id-3 div.sk-label-container {text-align: center;}#sk-container-id-3 div.sk-container {/* jupyter's `normalize.less` sets `[hidden] { display: none; }` but bootstrap.min.css set `[hidden] { display: none !important; }` so we also need the `!important` here to be able to override the default hidden behavior on the sphinx rendered scikit-learn.org. See: https://github.com/scikit-learn/scikit-learn/issues/21755 */display: inline-block !important;position: relative;}#sk-container-id-3 div.sk-text-repr-fallback {display: none;}</style><div id=\"sk-container-id-3\" class=\"sk-top-container\"><div class=\"sk-text-repr-fallback\"><pre>DecisionTreeClassifier()</pre><b>In a Jupyter environment, please rerun this cell to show the HTML representation or trust the notebook. <br />On GitHub, the HTML representation is unable to render, please try loading this page with nbviewer.org.</b></div><div class=\"sk-container\" hidden><div class=\"sk-item\"><div class=\"sk-estimator sk-toggleable\"><input class=\"sk-toggleable__control sk-hidden--visually\" id=\"sk-estimator-id-3\" type=\"checkbox\" checked><label for=\"sk-estimator-id-3\" class=\"sk-toggleable__label sk-toggleable__label-arrow\">DecisionTreeClassifier</label><div class=\"sk-toggleable__content\"><pre>DecisionTreeClassifier()</pre></div></div></div></div></div>"
      ],
      "text/plain": [
       "DecisionTreeClassifier()"
      ]
     },
     "execution_count": 42,
     "metadata": {},
     "output_type": "execute_result"
    }
   ],
   "source": [
    "# train a decision tree (DT) model\n",
    "\n",
    "from sklearn import tree\n",
    "\n",
    "dt_NLP_model = tree.DecisionTreeClassifier()\n",
    "dt_NLP_model.fit(CommentVecs_train, label_2_train)\n"
   ]
  },
  {
   "cell_type": "code",
   "execution_count": 43,
   "metadata": {},
   "outputs": [
    {
     "data": {
      "text/html": [
       "<style>#sk-container-id-4 {color: black;background-color: white;}#sk-container-id-4 pre{padding: 0;}#sk-container-id-4 div.sk-toggleable {background-color: white;}#sk-container-id-4 label.sk-toggleable__label {cursor: pointer;display: block;width: 100%;margin-bottom: 0;padding: 0.3em;box-sizing: border-box;text-align: center;}#sk-container-id-4 label.sk-toggleable__label-arrow:before {content: \"▸\";float: left;margin-right: 0.25em;color: #696969;}#sk-container-id-4 label.sk-toggleable__label-arrow:hover:before {color: black;}#sk-container-id-4 div.sk-estimator:hover label.sk-toggleable__label-arrow:before {color: black;}#sk-container-id-4 div.sk-toggleable__content {max-height: 0;max-width: 0;overflow: hidden;text-align: left;background-color: #f0f8ff;}#sk-container-id-4 div.sk-toggleable__content pre {margin: 0.2em;color: black;border-radius: 0.25em;background-color: #f0f8ff;}#sk-container-id-4 input.sk-toggleable__control:checked~div.sk-toggleable__content {max-height: 200px;max-width: 100%;overflow: auto;}#sk-container-id-4 input.sk-toggleable__control:checked~label.sk-toggleable__label-arrow:before {content: \"▾\";}#sk-container-id-4 div.sk-estimator input.sk-toggleable__control:checked~label.sk-toggleable__label {background-color: #d4ebff;}#sk-container-id-4 div.sk-label input.sk-toggleable__control:checked~label.sk-toggleable__label {background-color: #d4ebff;}#sk-container-id-4 input.sk-hidden--visually {border: 0;clip: rect(1px 1px 1px 1px);clip: rect(1px, 1px, 1px, 1px);height: 1px;margin: -1px;overflow: hidden;padding: 0;position: absolute;width: 1px;}#sk-container-id-4 div.sk-estimator {font-family: monospace;background-color: #f0f8ff;border: 1px dotted black;border-radius: 0.25em;box-sizing: border-box;margin-bottom: 0.5em;}#sk-container-id-4 div.sk-estimator:hover {background-color: #d4ebff;}#sk-container-id-4 div.sk-parallel-item::after {content: \"\";width: 100%;border-bottom: 1px solid gray;flex-grow: 1;}#sk-container-id-4 div.sk-label:hover label.sk-toggleable__label {background-color: #d4ebff;}#sk-container-id-4 div.sk-serial::before {content: \"\";position: absolute;border-left: 1px solid gray;box-sizing: border-box;top: 0;bottom: 0;left: 50%;z-index: 0;}#sk-container-id-4 div.sk-serial {display: flex;flex-direction: column;align-items: center;background-color: white;padding-right: 0.2em;padding-left: 0.2em;position: relative;}#sk-container-id-4 div.sk-item {position: relative;z-index: 1;}#sk-container-id-4 div.sk-parallel {display: flex;align-items: stretch;justify-content: center;background-color: white;position: relative;}#sk-container-id-4 div.sk-item::before, #sk-container-id-4 div.sk-parallel-item::before {content: \"\";position: absolute;border-left: 1px solid gray;box-sizing: border-box;top: 0;bottom: 0;left: 50%;z-index: -1;}#sk-container-id-4 div.sk-parallel-item {display: flex;flex-direction: column;z-index: 1;position: relative;background-color: white;}#sk-container-id-4 div.sk-parallel-item:first-child::after {align-self: flex-end;width: 50%;}#sk-container-id-4 div.sk-parallel-item:last-child::after {align-self: flex-start;width: 50%;}#sk-container-id-4 div.sk-parallel-item:only-child::after {width: 0;}#sk-container-id-4 div.sk-dashed-wrapped {border: 1px dashed gray;margin: 0 0.4em 0.5em 0.4em;box-sizing: border-box;padding-bottom: 0.4em;background-color: white;}#sk-container-id-4 div.sk-label label {font-family: monospace;font-weight: bold;display: inline-block;line-height: 1.2em;}#sk-container-id-4 div.sk-label-container {text-align: center;}#sk-container-id-4 div.sk-container {/* jupyter's `normalize.less` sets `[hidden] { display: none; }` but bootstrap.min.css set `[hidden] { display: none !important; }` so we also need the `!important` here to be able to override the default hidden behavior on the sphinx rendered scikit-learn.org. See: https://github.com/scikit-learn/scikit-learn/issues/21755 */display: inline-block !important;position: relative;}#sk-container-id-4 div.sk-text-repr-fallback {display: none;}</style><div id=\"sk-container-id-4\" class=\"sk-top-container\"><div class=\"sk-text-repr-fallback\"><pre>LogisticRegression(max_iter=500)</pre><b>In a Jupyter environment, please rerun this cell to show the HTML representation or trust the notebook. <br />On GitHub, the HTML representation is unable to render, please try loading this page with nbviewer.org.</b></div><div class=\"sk-container\" hidden><div class=\"sk-item\"><div class=\"sk-estimator sk-toggleable\"><input class=\"sk-toggleable__control sk-hidden--visually\" id=\"sk-estimator-id-4\" type=\"checkbox\" checked><label for=\"sk-estimator-id-4\" class=\"sk-toggleable__label sk-toggleable__label-arrow\">LogisticRegression</label><div class=\"sk-toggleable__content\"><pre>LogisticRegression(max_iter=500)</pre></div></div></div></div></div>"
      ],
      "text/plain": [
       "LogisticRegression(max_iter=500)"
      ]
     },
     "execution_count": 43,
     "metadata": {},
     "output_type": "execute_result"
    }
   ],
   "source": [
    "# train a maximum entropy (MaxEnt) model\n",
    "\n",
    "from sklearn.linear_model import LogisticRegression\n",
    "maxent_NLP_model = LogisticRegression(max_iter=500)\n",
    "maxent_NLP_model.fit(CommentVecs_train, label_2_train)"
   ]
  },
  {
   "cell_type": "markdown",
   "metadata": {
    "id": "ZdGjXBMYhLNf"
   },
   "source": [
    "> 預測及評估上方兩個模型\n"
   ]
  },
  {
   "cell_type": "code",
   "execution_count": 44,
   "metadata": {
    "colab": {
     "base_uri": "https://localhost:8080/"
    },
    "executionInfo": {
     "elapsed": 742,
     "status": "ok",
     "timestamp": 1666842580018,
     "user": {
      "displayName": "Yu-Yun Chang",
      "userId": "02314045223051328708"
     },
     "user_tz": -480
    },
    "id": "s3B_y_o2hLNf",
    "outputId": "c996ef8b-f90d-41db-99e1-6a0ee0700b78"
   },
   "outputs": [],
   "source": [
    "from sklearn.metrics import accuracy_score\n",
    "from sklearn.metrics import f1_score\n",
    "from sklearn.metrics import classification_report\n",
    "\n",
    "\n",
    "# dt_model prediction and evaluation\n",
    "\n",
    "predicted_dt_NLP = dt_NLP_model.predict(CommentVecs_test)\n",
    "dt_NLP_accuracy = accuracy_score(label_2_test, predicted_dt_NLP)\n",
    "dt_NLP_fscore = f1_score(label_2_test, predicted_dt_NLP, average='micro') \n",
    "report_dt_NLP = classification_report(label_2_test, predicted_dt_NLP)\n",
    "\n",
    "# maxent_model prediciton and evaluation\n",
    "\n",
    "predicted_maxent_NLP = maxent_NLP_model.predict(CommentVecs_test)\n",
    "maxent_NLP_accuracy = accuracy_score(label_2_test, predicted_maxent_NLP)\n",
    "maxent_NLP_fscore = f1_score(label_2_test, predicted_maxent_NLP, average='micro') \n",
    "report_maxent_NLP= classification_report(label_2_test, predicted_maxent_NLP)"
   ]
  },
  {
   "cell_type": "code",
   "execution_count": 45,
   "metadata": {
    "colab": {
     "base_uri": "https://localhost:8080/"
    },
    "executionInfo": {
     "elapsed": 5,
     "status": "ok",
     "timestamp": 1666842587026,
     "user": {
      "displayName": "Yu-Yun Chang",
      "userId": "02314045223051328708"
     },
     "user_tz": -480
    },
    "id": "8F8wEo5YhLNf",
    "outputId": "05c85df4-2483-40a2-ffc4-349254fc79ff"
   },
   "outputs": [
    {
     "name": "stdout",
     "output_type": "stream",
     "text": [
      "0.6572413793103449\n",
      "0.5151724137931034\n"
     ]
    }
   ],
   "source": [
    "print(dt_NLP_fscore)\n",
    "print(maxent_NLP_fscore)"
   ]
  },
  {
   "cell_type": "markdown",
   "metadata": {},
   "source": [
    "> 這兩個模型的結果比RNN和Naive Bayes Model還好"
   ]
  },
  {
   "cell_type": "markdown",
   "metadata": {},
   "source": [
    "***\n",
    "### 文本萃取特徵量化\n",
    "***"
   ]
  },
  {
   "cell_type": "code",
   "execution_count": 46,
   "metadata": {},
   "outputs": [
    {
     "data": {
      "text/html": [
       "<style>#sk-container-id-5 {color: black;background-color: white;}#sk-container-id-5 pre{padding: 0;}#sk-container-id-5 div.sk-toggleable {background-color: white;}#sk-container-id-5 label.sk-toggleable__label {cursor: pointer;display: block;width: 100%;margin-bottom: 0;padding: 0.3em;box-sizing: border-box;text-align: center;}#sk-container-id-5 label.sk-toggleable__label-arrow:before {content: \"▸\";float: left;margin-right: 0.25em;color: #696969;}#sk-container-id-5 label.sk-toggleable__label-arrow:hover:before {color: black;}#sk-container-id-5 div.sk-estimator:hover label.sk-toggleable__label-arrow:before {color: black;}#sk-container-id-5 div.sk-toggleable__content {max-height: 0;max-width: 0;overflow: hidden;text-align: left;background-color: #f0f8ff;}#sk-container-id-5 div.sk-toggleable__content pre {margin: 0.2em;color: black;border-radius: 0.25em;background-color: #f0f8ff;}#sk-container-id-5 input.sk-toggleable__control:checked~div.sk-toggleable__content {max-height: 200px;max-width: 100%;overflow: auto;}#sk-container-id-5 input.sk-toggleable__control:checked~label.sk-toggleable__label-arrow:before {content: \"▾\";}#sk-container-id-5 div.sk-estimator input.sk-toggleable__control:checked~label.sk-toggleable__label {background-color: #d4ebff;}#sk-container-id-5 div.sk-label input.sk-toggleable__control:checked~label.sk-toggleable__label {background-color: #d4ebff;}#sk-container-id-5 input.sk-hidden--visually {border: 0;clip: rect(1px 1px 1px 1px);clip: rect(1px, 1px, 1px, 1px);height: 1px;margin: -1px;overflow: hidden;padding: 0;position: absolute;width: 1px;}#sk-container-id-5 div.sk-estimator {font-family: monospace;background-color: #f0f8ff;border: 1px dotted black;border-radius: 0.25em;box-sizing: border-box;margin-bottom: 0.5em;}#sk-container-id-5 div.sk-estimator:hover {background-color: #d4ebff;}#sk-container-id-5 div.sk-parallel-item::after {content: \"\";width: 100%;border-bottom: 1px solid gray;flex-grow: 1;}#sk-container-id-5 div.sk-label:hover label.sk-toggleable__label {background-color: #d4ebff;}#sk-container-id-5 div.sk-serial::before {content: \"\";position: absolute;border-left: 1px solid gray;box-sizing: border-box;top: 0;bottom: 0;left: 50%;z-index: 0;}#sk-container-id-5 div.sk-serial {display: flex;flex-direction: column;align-items: center;background-color: white;padding-right: 0.2em;padding-left: 0.2em;position: relative;}#sk-container-id-5 div.sk-item {position: relative;z-index: 1;}#sk-container-id-5 div.sk-parallel {display: flex;align-items: stretch;justify-content: center;background-color: white;position: relative;}#sk-container-id-5 div.sk-item::before, #sk-container-id-5 div.sk-parallel-item::before {content: \"\";position: absolute;border-left: 1px solid gray;box-sizing: border-box;top: 0;bottom: 0;left: 50%;z-index: -1;}#sk-container-id-5 div.sk-parallel-item {display: flex;flex-direction: column;z-index: 1;position: relative;background-color: white;}#sk-container-id-5 div.sk-parallel-item:first-child::after {align-self: flex-end;width: 50%;}#sk-container-id-5 div.sk-parallel-item:last-child::after {align-self: flex-start;width: 50%;}#sk-container-id-5 div.sk-parallel-item:only-child::after {width: 0;}#sk-container-id-5 div.sk-dashed-wrapped {border: 1px dashed gray;margin: 0 0.4em 0.5em 0.4em;box-sizing: border-box;padding-bottom: 0.4em;background-color: white;}#sk-container-id-5 div.sk-label label {font-family: monospace;font-weight: bold;display: inline-block;line-height: 1.2em;}#sk-container-id-5 div.sk-label-container {text-align: center;}#sk-container-id-5 div.sk-container {/* jupyter's `normalize.less` sets `[hidden] { display: none; }` but bootstrap.min.css set `[hidden] { display: none !important; }` so we also need the `!important` here to be able to override the default hidden behavior on the sphinx rendered scikit-learn.org. See: https://github.com/scikit-learn/scikit-learn/issues/21755 */display: inline-block !important;position: relative;}#sk-container-id-5 div.sk-text-repr-fallback {display: none;}</style><div id=\"sk-container-id-5\" class=\"sk-top-container\"><div class=\"sk-text-repr-fallback\"><pre>LogisticRegression(max_iter=500)</pre><b>In a Jupyter environment, please rerun this cell to show the HTML representation or trust the notebook. <br />On GitHub, the HTML representation is unable to render, please try loading this page with nbviewer.org.</b></div><div class=\"sk-container\" hidden><div class=\"sk-item\"><div class=\"sk-estimator sk-toggleable\"><input class=\"sk-toggleable__control sk-hidden--visually\" id=\"sk-estimator-id-5\" type=\"checkbox\" checked><label for=\"sk-estimator-id-5\" class=\"sk-toggleable__label sk-toggleable__label-arrow\">LogisticRegression</label><div class=\"sk-toggleable__content\"><pre>LogisticRegression(max_iter=500)</pre></div></div></div></div></div>"
      ],
      "text/plain": [
       "LogisticRegression(max_iter=500)"
      ]
     },
     "execution_count": 46,
     "metadata": {},
     "output_type": "execute_result"
    }
   ],
   "source": [
    "# train a decision tree (DT) model\n",
    "\n",
    "from sklearn import tree\n",
    "\n",
    "dt_model = tree.DecisionTreeClassifier()\n",
    "dt_model.fit(feat_train, label_2_train)\n",
    "\n",
    "# train a maximum entropy (MaxEnt) model\n",
    "\n",
    "from sklearn.linear_model import LogisticRegression\n",
    "maxent_model = LogisticRegression(max_iter=500)\n",
    "maxent_model.fit(feat_train, label_2_train)"
   ]
  },
  {
   "cell_type": "code",
   "execution_count": 47,
   "metadata": {},
   "outputs": [],
   "source": [
    "# dt_model prediction and evaluation\n",
    "\n",
    "predicted_dt = dt_model.predict(feat_test)\n",
    "dt_accuracy = accuracy_score(label_2_test, predicted_dt)\n",
    "dt_fscore = f1_score(label_2_test, predicted_dt, average='micro') \n",
    "report_dt = classification_report(label_2_test, predicted_dt)\n",
    "\n",
    "# maxent_model prediciton and evaluation\n",
    "\n",
    "predicted_maxent = maxent_model.predict(feat_test)\n",
    "maxent_accuracy = accuracy_score(label_2_test, predicted_maxent)\n",
    "maxent_fscore = f1_score(label_2_test, predicted_maxent, average='micro') \n",
    "report_maxent= classification_report(label_2_test, predicted_maxent)"
   ]
  },
  {
   "cell_type": "code",
   "execution_count": 48,
   "metadata": {},
   "outputs": [
    {
     "name": "stdout",
     "output_type": "stream",
     "text": [
      "0.5062068965517241\n",
      "0.5110344827586207\n"
     ]
    }
   ],
   "source": [
    "print(dt_fscore)\n",
    "print(maxent_fscore)"
   ]
  },
  {
   "cell_type": "code",
   "execution_count": null,
   "metadata": {},
   "outputs": [],
   "source": []
  }
 ],
 "metadata": {
  "colab": {
   "provenance": []
  },
  "kernelspec": {
   "display_name": "Python 3 (ipykernel)",
   "language": "python",
   "name": "python3"
  },
  "language_info": {
   "codemirror_mode": {
    "name": "ipython",
    "version": 3
   },
   "file_extension": ".py",
   "mimetype": "text/x-python",
   "name": "python",
   "nbconvert_exporter": "python",
   "pygments_lexer": "ipython3",
   "version": "3.9.7"
  }
 },
 "nbformat": 4,
 "nbformat_minor": 1
}
